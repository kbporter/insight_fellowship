{
 "cells": [
  {
   "cell_type": "code",
   "execution_count": 219,
   "metadata": {
    "collapsed": false
   },
   "outputs": [],
   "source": [
    "import sys\n",
    "sys.path.append('/Users/katieporter/Dropbox/Insight/CT/ct_private/')\n",
    "import connect_fns_py3   # loading SQL connection functions written for this project\n",
    "sys.path.append('/Users/katieporter/Dropbox/Insight/CT/ct_share/insight_fellowship')\n",
    "import sql_queries  # loading sql query functions\n",
    "import my_functions as fns\n",
    "import importlib\n",
    "import mysql.connector\n",
    "# from os import chdir\n",
    "import pickle\n",
    "import pandas as pd\n",
    "import numpy as np\n",
    "import matplotlib.pyplot as plt\n",
    "from time import sleep\n",
    "import time\n",
    "\n",
    "\n",
    "\n",
    "import json\n",
    "import numpy as np\n",
    "import matplotlib\n",
    "import matplotlib.pyplot as plt\n",
    "%matplotlib inline\n",
    "from matplotlib import gridspec\n",
    "import seaborn as sns\n",
    "import pandas as pd\n",
    "sns.set_context('poster')"
   ]
  },
  {
   "cell_type": "markdown",
   "metadata": {},
   "source": [
    "#### reload functions "
   ]
  },
  {
   "cell_type": "code",
   "execution_count": 220,
   "metadata": {
    "collapsed": false
   },
   "outputs": [
    {
     "name": "stdout",
     "output_type": "stream",
     "text": [
      "Connected to Constant Therapy SQL\n"
     ]
    }
   ],
   "source": [
    "importlib.reload(connect_fns_py3);\n",
    "importlib.reload(sql_queries);\n",
    "cnx = connect_fns_py3.connectMySQL();\n",
    "cur = cnx.cursor();"
   ]
  },
  {
   "cell_type": "markdown",
   "metadata": {},
   "source": [
    "#### import list of target patients (no assisted sessions)"
   ]
  },
  {
   "cell_type": "code",
   "execution_count": 118,
   "metadata": {
    "collapsed": false
   },
   "outputs": [],
   "source": [
    "patient_list = pd.read_csv('sched_patient_list.csv')"
   ]
  },
  {
   "cell_type": "markdown",
   "metadata": {},
   "source": [
    "#### import csv of target patients first/last timestamp "
   ]
  },
  {
   "cell_type": "code",
   "execution_count": 164,
   "metadata": {
    "collapsed": false
   },
   "outputs": [
    {
     "data": {
      "text/html": [
       "<div>\n",
       "<table border=\"1\" class=\"dataframe\">\n",
       "  <thead>\n",
       "    <tr style=\"text-align: right;\">\n",
       "      <th></th>\n",
       "      <th>patient_id</th>\n",
       "      <th>min(start_time)</th>\n",
       "      <th>max(start_time)</th>\n",
       "      <th>diffDays</th>\n",
       "      <th>diffHours</th>\n",
       "      <th>diffMin</th>\n",
       "      <th>diffSec</th>\n",
       "    </tr>\n",
       "  </thead>\n",
       "  <tbody>\n",
       "    <tr>\n",
       "      <th>11110</th>\n",
       "      <td>54869</td>\n",
       "      <td>2015-12-30 16:49:42</td>\n",
       "      <td>2016-01-01 19:46:02</td>\n",
       "      <td>2.122454</td>\n",
       "      <td>50.938889</td>\n",
       "      <td>3056.333333</td>\n",
       "      <td>183380</td>\n",
       "    </tr>\n",
       "    <tr>\n",
       "      <th>11111</th>\n",
       "      <td>54870</td>\n",
       "      <td>2015-12-30 16:49:48</td>\n",
       "      <td>2015-12-31 07:05:45</td>\n",
       "      <td>0.594410</td>\n",
       "      <td>14.265833</td>\n",
       "      <td>855.950000</td>\n",
       "      <td>51357</td>\n",
       "    </tr>\n",
       "    <tr>\n",
       "      <th>11112</th>\n",
       "      <td>54876</td>\n",
       "      <td>2015-12-30 17:58:43</td>\n",
       "      <td>2016-01-01 12:16:22</td>\n",
       "      <td>1.762257</td>\n",
       "      <td>42.294167</td>\n",
       "      <td>2537.650000</td>\n",
       "      <td>152259</td>\n",
       "    </tr>\n",
       "    <tr>\n",
       "      <th>11113</th>\n",
       "      <td>54878</td>\n",
       "      <td>2015-12-30 18:57:58</td>\n",
       "      <td>2016-01-02 22:15:20</td>\n",
       "      <td>3.137060</td>\n",
       "      <td>75.289444</td>\n",
       "      <td>4517.366667</td>\n",
       "      <td>271042</td>\n",
       "    </tr>\n",
       "    <tr>\n",
       "      <th>11114</th>\n",
       "      <td>54885</td>\n",
       "      <td>2015-12-30 19:49:50</td>\n",
       "      <td>2016-01-02 14:15:21</td>\n",
       "      <td>2.767720</td>\n",
       "      <td>66.425278</td>\n",
       "      <td>3985.516667</td>\n",
       "      <td>239131</td>\n",
       "    </tr>\n",
       "    <tr>\n",
       "      <th>11115</th>\n",
       "      <td>54886</td>\n",
       "      <td>2015-12-30 21:09:29</td>\n",
       "      <td>2016-01-02 14:15:48</td>\n",
       "      <td>2.712720</td>\n",
       "      <td>65.105278</td>\n",
       "      <td>3906.316667</td>\n",
       "      <td>234379</td>\n",
       "    </tr>\n",
       "    <tr>\n",
       "      <th>11116</th>\n",
       "      <td>54892</td>\n",
       "      <td>2015-12-30 20:25:39</td>\n",
       "      <td>2015-12-30 21:30:47</td>\n",
       "      <td>0.045231</td>\n",
       "      <td>1.085556</td>\n",
       "      <td>65.133333</td>\n",
       "      <td>3908</td>\n",
       "    </tr>\n",
       "    <tr>\n",
       "      <th>11117</th>\n",
       "      <td>54893</td>\n",
       "      <td>2015-12-30 20:28:41</td>\n",
       "      <td>2015-12-30 20:28:41</td>\n",
       "      <td>0.000000</td>\n",
       "      <td>0.000000</td>\n",
       "      <td>0.000000</td>\n",
       "      <td>0</td>\n",
       "    </tr>\n",
       "    <tr>\n",
       "      <th>11118</th>\n",
       "      <td>54898</td>\n",
       "      <td>2015-12-30 21:36:31</td>\n",
       "      <td>2015-12-30 21:39:34</td>\n",
       "      <td>0.002118</td>\n",
       "      <td>0.050833</td>\n",
       "      <td>3.050000</td>\n",
       "      <td>183</td>\n",
       "    </tr>\n",
       "    <tr>\n",
       "      <th>11119</th>\n",
       "      <td>54900</td>\n",
       "      <td>2015-12-30 21:43:50</td>\n",
       "      <td>2016-01-02 18:30:39</td>\n",
       "      <td>2.865845</td>\n",
       "      <td>68.780278</td>\n",
       "      <td>4126.816667</td>\n",
       "      <td>247609</td>\n",
       "    </tr>\n",
       "  </tbody>\n",
       "</table>\n",
       "</div>"
      ],
      "text/plain": [
       "       patient_id      min(start_time)      max(start_time)  diffDays  \\\n",
       "11110       54869  2015-12-30 16:49:42  2016-01-01 19:46:02  2.122454   \n",
       "11111       54870  2015-12-30 16:49:48  2015-12-31 07:05:45  0.594410   \n",
       "11112       54876  2015-12-30 17:58:43  2016-01-01 12:16:22  1.762257   \n",
       "11113       54878  2015-12-30 18:57:58  2016-01-02 22:15:20  3.137060   \n",
       "11114       54885  2015-12-30 19:49:50  2016-01-02 14:15:21  2.767720   \n",
       "11115       54886  2015-12-30 21:09:29  2016-01-02 14:15:48  2.712720   \n",
       "11116       54892  2015-12-30 20:25:39  2015-12-30 21:30:47  0.045231   \n",
       "11117       54893  2015-12-30 20:28:41  2015-12-30 20:28:41  0.000000   \n",
       "11118       54898  2015-12-30 21:36:31  2015-12-30 21:39:34  0.002118   \n",
       "11119       54900  2015-12-30 21:43:50  2016-01-02 18:30:39  2.865845   \n",
       "\n",
       "       diffHours      diffMin  diffSec  \n",
       "11110  50.938889  3056.333333   183380  \n",
       "11111  14.265833   855.950000    51357  \n",
       "11112  42.294167  2537.650000   152259  \n",
       "11113  75.289444  4517.366667   271042  \n",
       "11114  66.425278  3985.516667   239131  \n",
       "11115  65.105278  3906.316667   234379  \n",
       "11116   1.085556    65.133333     3908  \n",
       "11117   0.000000     0.000000        0  \n",
       "11118   0.050833     3.050000      183  \n",
       "11119  68.780278  4126.816667   247609  "
      ]
     },
     "execution_count": 164,
     "metadata": {},
     "output_type": "execute_result"
    }
   ],
   "source": [
    "timesall = pd.read_csv('allfirst_last_timestamp.csv')\n",
    "# from datetime import datetime\n",
    "# from datetime import timedelta\n",
    "\n",
    "timesall['diffDays'] = (timesall['max(start_time)'].apply(fns.maketime_sec)- timesall['min(start_time)'].apply(fns.maketime_sec))/86400\n",
    "timesall['diffHours'] = (timesall['max(start_time)'].apply(fns.maketime_sec)- timesall['min(start_time)'].apply(fns.maketime_sec))/3600\n",
    "timesall['diffMin'] = (timesall['max(start_time)'].apply(fns.maketime_sec)- timesall['min(start_time)'].apply(fns.maketime_sec))/60\n",
    "timesall['diffSec'] = timesall['max(start_time)'].apply(fns.maketime_sec)- timesall['min(start_time)'].apply(fns.maketime_sec)\n",
    "timesall[11110:11120]"
   ]
  },
  {
   "cell_type": "code",
   "execution_count": 165,
   "metadata": {
    "collapsed": false
   },
   "outputs": [
    {
     "data": {
      "image/png": "[encoded data removed]",
      "text/plain": [
       "<matplotlib.figure.Figure at 0x117d8bf28>"
      ]
     },
     "metadata": {},
     "output_type": "display_data"
    }
   ],
   "source": [
    "timesall.hist(column='diffDays', bins=100);"
   ]
  },
  {
   "cell_type": "code",
   "execution_count": 166,
   "metadata": {
    "collapsed": true
   },
   "outputs": [],
   "source": [
    "firstweek = timesall[timesall['diffDays'] <= 7]\n",
    "firstmonth = timesall[timesall['diffDays'] <= 30]\n",
    "firstday = timesall[timesall['diffDays'] <= 1]"
   ]
  },
  {
   "cell_type": "code",
   "execution_count": 167,
   "metadata": {
    "collapsed": false
   },
   "outputs": [
    {
     "data": {
      "text/plain": [
       "array([[<matplotlib.axes._subplots.AxesSubplot object at 0x119231908>]], dtype=object)"
      ]
     },
     "execution_count": 167,
     "metadata": {},
     "output_type": "execute_result"
    },
    {
     "data": {
      "image/png": "[encoded data removed]",
      "text/plain": [
       "<matplotlib.figure.Figure at 0x119502cc0>"
      ]
     },
     "metadata": {},
     "output_type": "display_data"
    }
   ],
   "source": [
    "firstday.hist(column='diffHours', bins=7)"
   ]
  },
  {
   "cell_type": "code",
   "execution_count": 168,
   "metadata": {
    "collapsed": false
   },
   "outputs": [
    {
     "data": {
      "image/png": "[encoded data removed]",
      "text/plain": [
       "<matplotlib.figure.Figure at 0x1122094a8>"
      ]
     },
     "metadata": {},
     "output_type": "display_data"
    }
   ],
   "source": [
    "firstweek.hist(column='diffDays', bins=7);\n",
    "ax = plt.xlabel(\"Number of Days Active\")\n",
    "plt.ylabel(\"Number of Patients\");\n",
    "plt.title(\"Patient Drop-off over 1 Week\")\n",
    "figDropoff = ax.get_figure()\n",
    "figDropoff.savefig('week_dropoff.png')"
   ]
  },
  {
   "cell_type": "markdown",
   "metadata": {},
   "source": [
    "#### for users who drop-off in the first day, get completed task ratio (completed / assigned) "
   ]
  },
  {
   "cell_type": "code",
   "execution_count": 169,
   "metadata": {
    "collapsed": false
   },
   "outputs": [
    {
     "data": {
      "text/plain": [
       "(5408,)"
      ]
     },
     "execution_count": 169,
     "metadata": {},
     "output_type": "execute_result"
    }
   ],
   "source": [
    "patient_nums_1day = np.array(firstday['patient_id'])\n",
    "patient_nums_1day.shape"
   ]
  },
  {
   "cell_type": "code",
   "execution_count": 186,
   "metadata": {
    "collapsed": false
   },
   "outputs": [
    {
     "data": {
      "text/html": [
       "<div>\n",
       "<table border=\"1\" class=\"dataframe\">\n",
       "  <thead>\n",
       "    <tr style=\"text-align: right;\">\n",
       "      <th></th>\n",
       "      <th>patient_id</th>\n",
       "      <th>avg_duration</th>\n",
       "      <th>avg_accuracy</th>\n",
       "      <th>avg_latency</th>\n",
       "      <th>avg_ratio_completed</th>\n",
       "    </tr>\n",
       "  </thead>\n",
       "  <tbody>\n",
       "  </tbody>\n",
       "</table>\n",
       "</div>"
      ],
      "text/plain": [
       "Empty DataFrame\n",
       "Columns: [patient_id, avg_duration, avg_accuracy, avg_latency, avg_ratio_completed]\n",
       "Index: []"
      ]
     },
     "execution_count": 186,
     "metadata": {},
     "output_type": "execute_result"
    }
   ],
   "source": [
    "single_day_last5 = pd.DataFrame(columns=['patient_id', 'avg_duration', 'avg_accuracy', 'avg_latency', 'avg_ratio_completed'])\n",
    "single_day_last5"
   ]
  },
  {
   "cell_type": "code",
   "execution_count": 221,
   "metadata": {
    "collapsed": false
   },
   "outputs": [],
   "source": [
    "# for i in patient_nums_1day[4941:]:\n",
    "for i in patient_nums_1day:\n",
    "    df = sql_queries.last_5_sessions(cur,i)\n",
    "    avg_duration = df['duration'].mean()\n",
    "    avg_accuracy = df['accuracy'].mean()\n",
    "    avg_latency = df['latency'].mean()\n",
    "    avg_ratio = df['completed_ratio'].mean()\n",
    "    onedf = pd.DataFrame([[i,avg_duration,avg_accuracy,avg_latency,avg_ratio]],\n",
    "                         columns=['patient_id', 'avg_duration', 'avg_accuracy', 'avg_latency', 'avg_ratio_completed'])\n",
    "    single_day_last5 = single_day_last5.append(onedf, ignore_index=True)\n",
    "    "
   ]
  },
  {
   "cell_type": "code",
   "execution_count": 224,
   "metadata": {
    "collapsed": false
   },
   "outputs": [
    {
     "data": {
      "image/png": "[encoded data removed]",
      "text/plain": [
       "<matplotlib.figure.Figure at 0x1170dc828>"
      ]
     },
     "metadata": {},
     "output_type": "display_data"
    }
   ],
   "source": [
    "single_day_last5.hist(column='avg_ratio_completed');\n",
    "ax = plt.xlabel(\"Ratio Tasks Completed (Finished/Total)\")\n",
    "plt.ylabel(\"Number of Patients\");\n",
    "plt.title(\"Tasks Completed: 1 Day Users\")\n",
    "figDropoff = ax.get_figure()\n",
    "figDropoff.savefig('taskscompleted_1dayusers.png')"
   ]
  },
  {
   "cell_type": "code",
   "execution_count": 223,
   "metadata": {
    "collapsed": false
   },
   "outputs": [
    {
     "data": {
      "text/plain": [
       "(5408,)"
      ]
     },
     "execution_count": 223,
     "metadata": {},
     "output_type": "execute_result"
    }
   ],
   "source": [
    "patient_nums_1day.shape"
   ]
  },
  {
   "cell_type": "code",
   "execution_count": 216,
   "metadata": {
    "collapsed": false
   },
   "outputs": [
    {
     "data": {
      "text/html": [
       "<div>\n",
       "<table border=\"1\" class=\"dataframe\">\n",
       "  <thead>\n",
       "    <tr style=\"text-align: right;\">\n",
       "      <th></th>\n",
       "      <th>patient_id</th>\n",
       "      <th>avg_duration</th>\n",
       "      <th>avg_accuracy</th>\n",
       "      <th>avg_latency</th>\n",
       "      <th>avg_ratio_completed</th>\n",
       "    </tr>\n",
       "  </thead>\n",
       "  <tbody>\n",
       "    <tr>\n",
       "      <th>4940</th>\n",
       "      <td>50278</td>\n",
       "      <td>44</td>\n",
       "      <td>0.3</td>\n",
       "      <td>13.183333</td>\n",
       "      <td>0.4</td>\n",
       "    </tr>\n",
       "  </tbody>\n",
       "</table>\n",
       "</div>"
      ],
      "text/plain": [
       "      patient_id  avg_duration  avg_accuracy  avg_latency  avg_ratio_completed\n",
       "4940       50278            44           0.3    13.183333                  0.4"
      ]
     },
     "execution_count": 216,
     "metadata": {},
     "output_type": "execute_result"
    }
   ],
   "source": [
    "single_day_last5[4940:]"
   ]
  },
  {
   "cell_type": "code",
   "execution_count": 218,
   "metadata": {
    "collapsed": false
   },
   "outputs": [
    {
     "data": {
      "text/plain": [
       "array([50278, 50285, 50330, 50332, 50335, 50336, 50366, 50387, 50419,\n",
       "       50425, 50427, 50457, 50484, 50487, 50488, 50501, 50502, 50503,\n",
       "       50505, 50507, 50515, 50522, 50529, 50530, 50531, 50535, 50536,\n",
       "       50564, 50578, 50583, 50584, 50608, 50618, 50620, 50629, 50630,\n",
       "       50634, 50702, 50727, 50735, 50736, 50741, 50744, 50752, 50754,\n",
       "       50756, 50796, 50797, 50810, 50852, 50856, 50862, 50893, 50904,\n",
       "       50945, 50946, 50949, 50966, 50968, 50969, 50979, 50994, 51012,\n",
       "       51022, 51038, 51047, 51050, 51060, 51062, 51066, 51071, 51074,\n",
       "       51078, 51083, 51087, 51088, 51090, 51100, 51110, 51150, 51151,\n",
       "       51188, 51189, 51191, 51192, 51201, 51203, 51206, 51207, 51209,\n",
       "       51217, 51249, 51259, 51293, 51300, 51327, 51328, 51332, 51363,\n",
       "       51376, 51377, 51378, 51380, 51387, 51388, 51389, 51392, 51398,\n",
       "       51410, 51417, 51418, 51430, 51433, 51435, 51467, 51494, 51504,\n",
       "       51515, 51525, 51539, 51546, 51556, 51558, 51584, 51587, 51588,\n",
       "       51591, 51605, 51606, 51610, 51615, 51630, 51642, 51645, 51646,\n",
       "       51652, 51653, 51657, 51661, 51662, 51670, 51673, 51688, 51713,\n",
       "       51758, 51766, 51770, 51775, 51783, 51838, 51872, 51875, 51909,\n",
       "       51911, 51913, 51923, 51929, 51931, 51944, 51970, 51982, 51994,\n",
       "       52000, 52012, 52024, 52032, 52038, 52040, 52041, 52042, 52044,\n",
       "       52045, 52070, 52083, 52095, 52097, 52113, 52122, 52133, 52139,\n",
       "       52141, 52145, 52157, 52160, 52172, 52210, 52220, 52223, 52226,\n",
       "       52229, 52231, 52234, 52236, 52238, 52247, 52249, 52250, 52255,\n",
       "       52257, 52263, 52269, 52274, 52284, 52285, 52289, 52298, 52300,\n",
       "       52330, 52338, 52366, 52374, 52381, 52383, 52411, 52429, 52457,\n",
       "       52465, 52466, 52470, 52497, 52511, 52513, 52515, 52521, 52547,\n",
       "       52551, 52552, 52556, 52562, 52563, 52567, 52570, 52575, 52609,\n",
       "       52612, 52624, 52638, 52641, 52642, 52650, 52654, 52655, 52674,\n",
       "       52678, 52697, 52704, 52731, 52744, 52745, 52751, 52760, 52772,\n",
       "       52840, 52848, 52849, 52852, 52853, 52908, 52925, 52927, 52955,\n",
       "       52967, 52969, 52984, 52996, 52997, 53001, 53011, 53013, 53029,\n",
       "       53073, 53079, 53084, 53087, 53088, 53090, 53092, 53095, 53119,\n",
       "       53131, 53156, 53159, 53165, 53169, 53171, 53172, 53178, 53180,\n",
       "       53185, 53189, 53190, 53197, 53200, 53222, 53226, 53246, 53250,\n",
       "       53293, 53295, 53301, 53318, 53319, 53321, 53332, 53370, 53402,\n",
       "       53409, 53416, 53436, 53467, 53487, 53493, 53501, 53508, 53510,\n",
       "       53515, 53519, 53520, 53532, 53536, 53587, 53593, 53597, 53599,\n",
       "       53607, 53635, 53648, 53653, 53656, 53658, 53662, 53670, 53677,\n",
       "       53682, 53688, 53698, 53705, 53706, 53718, 53723, 53724, 53737,\n",
       "       53758, 53774, 53808, 53820, 53821, 53823, 53825, 53828, 53829,\n",
       "       53836, 53843, 53852, 53868, 53886, 53951, 53957, 53960, 53961,\n",
       "       53962, 54007, 54024, 54032, 54053, 54056, 54160, 54165, 54169,\n",
       "       54174, 54185, 54192, 54229, 54237, 54240, 54241, 54246, 54252,\n",
       "       54253, 54254, 54256, 54257, 54259, 54269, 54271, 54282, 54284,\n",
       "       54285, 54304, 54342, 54345, 54349, 54350, 54434, 54444, 54446,\n",
       "       54456, 54487, 54531, 54533, 54537, 54547, 54548, 54552, 54583,\n",
       "       54585, 54587, 54597, 54603, 54618, 54621, 54637, 54640, 54650,\n",
       "       54669, 54678, 54685, 54694, 54701, 54716, 54717, 54720, 54723,\n",
       "       54734, 54740, 54744, 54750, 54796, 54823, 54826, 54827, 54832,\n",
       "       54833, 54842, 54844, 54850, 54852, 54870, 54892, 54893, 54898,\n",
       "       54907, 54922, 54929, 54945, 54949, 54988, 54994, 54999, 55003,\n",
       "       55004, 55006, 55014, 55027, 55030, 55031, 55039, 55040, 55049,\n",
       "       55054, 55056, 55057, 55058, 55062, 55063, 55067, 55072, 55078])"
      ]
     },
     "execution_count": 218,
     "metadata": {},
     "output_type": "execute_result"
    }
   ],
   "source": [
    "patient_nums_1day[4941:]"
   ]
  },
  {
   "cell_type": "code",
   "execution_count": 143,
   "metadata": {
    "collapsed": false
   },
   "outputs": [
    {
     "data": {
      "text/html": [
       "<div>\n",
       "<table border=\"1\" class=\"dataframe\">\n",
       "  <thead>\n",
       "    <tr style=\"text-align: right;\">\n",
       "      <th></th>\n",
       "      <th>patient_id</th>\n",
       "      <th>duration</th>\n",
       "      <th>accuracy</th>\n",
       "      <th>latency</th>\n",
       "      <th>task_level</th>\n",
       "      <th>completed_ratio</th>\n",
       "    </tr>\n",
       "  </thead>\n",
       "  <tbody>\n",
       "    <tr>\n",
       "      <th>0</th>\n",
       "      <td>1039</td>\n",
       "      <td>51</td>\n",
       "      <td>0.0000</td>\n",
       "      <td>49.830</td>\n",
       "      <td>5</td>\n",
       "      <td>0.0667</td>\n",
       "    </tr>\n",
       "    <tr>\n",
       "      <th>1</th>\n",
       "      <td>1039</td>\n",
       "      <td>464</td>\n",
       "      <td>0.9867</td>\n",
       "      <td>28.486</td>\n",
       "      <td>10</td>\n",
       "      <td>1.0000</td>\n",
       "    </tr>\n",
       "    <tr>\n",
       "      <th>2</th>\n",
       "      <td>1039</td>\n",
       "      <td>1170</td>\n",
       "      <td>0.6000</td>\n",
       "      <td>80.121</td>\n",
       "      <td>3</td>\n",
       "      <td>1.0000</td>\n",
       "    </tr>\n",
       "    <tr>\n",
       "      <th>3</th>\n",
       "      <td>1039</td>\n",
       "      <td>203</td>\n",
       "      <td>0.8000</td>\n",
       "      <td>10.873</td>\n",
       "      <td>1</td>\n",
       "      <td>1.0000</td>\n",
       "    </tr>\n",
       "    <tr>\n",
       "      <th>4</th>\n",
       "      <td>1039</td>\n",
       "      <td>823</td>\n",
       "      <td>0.6001</td>\n",
       "      <td>9.394</td>\n",
       "      <td>1</td>\n",
       "      <td>1.0000</td>\n",
       "    </tr>\n",
       "  </tbody>\n",
       "</table>\n",
       "</div>"
      ],
      "text/plain": [
       "   patient_id  duration accuracy latency  task_level completed_ratio\n",
       "0        1039        51   0.0000  49.830           5          0.0667\n",
       "1        1039       464   0.9867  28.486          10          1.0000\n",
       "2        1039      1170   0.6000  80.121           3          1.0000\n",
       "3        1039       203   0.8000  10.873           1          1.0000\n",
       "4        1039       823   0.6001   9.394           1          1.0000"
      ]
     },
     "execution_count": 143,
     "metadata": {},
     "output_type": "execute_result"
    }
   ],
   "source": [
    "onep = sql_queries.last_5_sessions(cur, 1039)\n",
    "onep"
   ]
  },
  {
   "cell_type": "code",
   "execution_count": 152,
   "metadata": {
    "collapsed": false
   },
   "outputs": [
    {
     "ename": "AttributeError",
     "evalue": "'numpy.float64' object has no attribute 'type'",
     "output_type": "error",
     "traceback": [
      "\u001b[0;31m---------------------------------------------------------------------------\u001b[0m",
      "\u001b[0;31mAttributeError\u001b[0m                            Traceback (most recent call last)",
      "\u001b[0;32m<ipython-input-152-571a96dcbf00>\u001b[0m in \u001b[0;36m<module>\u001b[0;34m()\u001b[0m\n\u001b[1;32m      1\u001b[0m \u001b[0mout\u001b[0m \u001b[0;34m=\u001b[0m \u001b[0monep\u001b[0m\u001b[0;34m[\u001b[0m\u001b[0;34m'completed_ratio'\u001b[0m\u001b[0;34m]\u001b[0m\u001b[0;34m.\u001b[0m\u001b[0mmean\u001b[0m\u001b[0;34m(\u001b[0m\u001b[0;34m)\u001b[0m\u001b[0;34m\u001b[0m\u001b[0m\n\u001b[0;32m----> 2\u001b[0;31m \u001b[0mout\u001b[0m\u001b[0;34m.\u001b[0m\u001b[0mtype\u001b[0m\u001b[0;34m\u001b[0m\u001b[0m\n\u001b[0m",
      "\u001b[0;31mAttributeError\u001b[0m: 'numpy.float64' object has no attribute 'type'"
     ]
    }
   ],
   "source": [
    "out = onep['completed_ratio'].mean()"
   ]
  },
  {
   "cell_type": "code",
   "execution_count": null,
   "metadata": {
    "collapsed": false
   },
   "outputs": [],
   "source": []
  },
  {
   "cell_type": "code",
   "execution_count": null,
   "metadata": {
    "collapsed": true
   },
   "outputs": [],
   "source": [
    "# done with cursor\n",
    "cur.close()             \n",
    "\n",
    "# done with database\n",
    "cnx.close()"
   ]
  },
  {
   "cell_type": "code",
   "execution_count": null,
   "metadata": {
    "collapsed": true
   },
   "outputs": [],
   "source": [
    "# def scheduled_patients(cur):\n",
    "#     rstore = []\n",
    "#     patient_num = [1039, 1254]\n",
    "#     for i in patient_num:\n",
    "#         cur.execute((\"SELECT max(timestamp) FROM constant_therapy.responses where patient_id =({patient_num})\").format(patient_num=i))\n",
    "#         sleep(.5)\n",
    "#         result = cur.fetchall()\n",
    "#         r = [i[0] for i in result]\n",
    "#         rstore = rstore + r\n",
    "#         return rstore\n",
    "# blah = scheduled_patients(cur)\n",
    "\n",
    "\n",
    "\n",
    "\n",
    "# fig = plt.figure(figsize=(15, 15)) \n",
    "# bothData = pd.DataFrame({'Active' : activePatientRT, \n",
    "#                         'Inactive' : inactivePatientRT})\n",
    "# plotL = bothData.plot(title=\"latency\", )\n",
    "# figL = plotL.get_figure()\n",
    "# figL.savefig('latency2users.png')"
   ]
  }
 ],
 "metadata": {
  "kernelspec": {
   "display_name": "Python 3",
   "language": "python",
   "name": "python3"
  },
  "language_info": {
   "codemirror_mode": {
    "name": "ipython",
    "version": 3
   },
   "file_extension": ".py",
   "mimetype": "text/x-python",
   "name": "python",
   "nbconvert_exporter": "python",
   "pygments_lexer": "ipython3",
   "version": "3.5.1"
  }
 },
 "nbformat": 4,
 "nbformat_minor": 0
}
