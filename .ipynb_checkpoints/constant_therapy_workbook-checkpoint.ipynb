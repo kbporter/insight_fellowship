{
 "cells": [
  {
   "cell_type": "markdown",
   "metadata": {},
   "source": [
    "## Insight Data Science Fellowship Consulting Project\n",
    "#### Consulting project for Constant Therapy: behavioral therapy app for patients https://constanttherapy.com/\n",
    "#### Goal: predict user drop-off, and identify impactful features for target interventions"
   ]
  },
  {
   "cell_type": "code",
   "execution_count": 44,
   "metadata": {
    "collapsed": false
   },
   "outputs": [],
   "source": [
    "import sys\n",
    "sys.path.append('/Users/katieporter/Dropbox/Insight/CT/ct_private/')\n",
    "import connect_fns_py3   # loading SQL connection functions written for this project\n",
    "sys.path.append('/Users/katieporter/Dropbox/Insight/CT/ct_share/insight_fellowship')\n",
    "import sql_queries  # loading sql query functions\n",
    "import my_functions as fns\n",
    "import importlib\n",
    "import mysql.connector\n",
    "import pandas as pd\n",
    "import numpy as np\n",
    "import matplotlib.pyplot as plt\n",
    "from time import sleep\n",
    "import time\n",
    "# from matplotlib import gridspec\n",
    "import seaborn as sns\n",
    "sns.set_context('poster')\n",
    "%matplotlib inline\n",
    "\n",
    "# from os import chdir\n",
    "# import pickle\n",
    "# import json\n"
   ]
  },
  {
   "cell_type": "markdown",
   "metadata": {},
   "source": [
    "#### reload functions "
   ]
  },
  {
   "cell_type": "code",
   "execution_count": 45,
   "metadata": {
    "collapsed": false
   },
   "outputs": [
    {
     "name": "stdout",
     "output_type": "stream",
     "text": [
      "Connected to Constant Therapy SQL\n"
     ]
    }
   ],
   "source": [
    "importlib.reload(connect_fns_py3);\n",
    "importlib.reload(sql_queries);\n",
    "importlib.reload(fns)\n",
    "cnx = connect_fns_py3.connectMySQL();\n",
    "cur = cnx.cursor();"
   ]
  },
  {
   "cell_type": "markdown",
   "metadata": {},
   "source": [
    "#### import list of target patients (no assisted sessions)"
   ]
  },
  {
   "cell_type": "code",
   "execution_count": 48,
   "metadata": {
    "collapsed": false
   },
   "outputs": [],
   "source": [
    "patient_list = pd.read_csv('/Users/katieporter/Dropbox/Insight/CT/ct_private/sched_patient_list.csv')"
   ]
  },
  {
   "cell_type": "markdown",
   "metadata": {},
   "source": [
    "#### import csv of target patients first/last timestamp "
   ]
  },
  {
   "cell_type": "code",
   "execution_count": 49,
   "metadata": {
    "collapsed": false
   },
   "outputs": [
    {
     "data": {
      "text/html": [
       "<div>\n",
       "<table border=\"1\" class=\"dataframe\">\n",
       "  <thead>\n",
       "    <tr style=\"text-align: right;\">\n",
       "      <th></th>\n",
       "      <th>patient_id</th>\n",
       "      <th>min(start_time)</th>\n",
       "      <th>max(start_time)</th>\n",
       "      <th>diffDays</th>\n",
       "      <th>diffHours</th>\n",
       "      <th>diffMin</th>\n",
       "      <th>diffSec</th>\n",
       "    </tr>\n",
       "  </thead>\n",
       "  <tbody>\n",
       "    <tr>\n",
       "      <th>0</th>\n",
       "      <td>1018</td>\n",
       "      <td>2013-06-12 09:54:46</td>\n",
       "      <td>2013-06-12 09:54:58</td>\n",
       "      <td>0.000139</td>\n",
       "      <td>0.003333</td>\n",
       "      <td>0.200000</td>\n",
       "      <td>12</td>\n",
       "    </tr>\n",
       "    <tr>\n",
       "      <th>1</th>\n",
       "      <td>1019</td>\n",
       "      <td>2013-06-09 21:04:19</td>\n",
       "      <td>2013-06-30 15:49:58</td>\n",
       "      <td>20.781701</td>\n",
       "      <td>498.760833</td>\n",
       "      <td>29925.650000</td>\n",
       "      <td>1795539</td>\n",
       "    </tr>\n",
       "    <tr>\n",
       "      <th>2</th>\n",
       "      <td>1028</td>\n",
       "      <td>2013-06-11 04:41:37</td>\n",
       "      <td>2013-07-23 04:59:25</td>\n",
       "      <td>42.012361</td>\n",
       "      <td>1008.296667</td>\n",
       "      <td>60497.800000</td>\n",
       "      <td>3629868</td>\n",
       "    </tr>\n",
       "    <tr>\n",
       "      <th>3</th>\n",
       "      <td>1029</td>\n",
       "      <td>2013-06-10 19:13:23</td>\n",
       "      <td>2013-11-25 15:23:24</td>\n",
       "      <td>167.881956</td>\n",
       "      <td>4029.166944</td>\n",
       "      <td>241750.016667</td>\n",
       "      <td>14505001</td>\n",
       "    </tr>\n",
       "    <tr>\n",
       "      <th>4</th>\n",
       "      <td>1046</td>\n",
       "      <td>2013-08-20 21:38:52</td>\n",
       "      <td>2013-08-21 22:48:34</td>\n",
       "      <td>1.048403</td>\n",
       "      <td>25.161667</td>\n",
       "      <td>1509.700000</td>\n",
       "      <td>90582</td>\n",
       "    </tr>\n",
       "    <tr>\n",
       "      <th>5</th>\n",
       "      <td>1056</td>\n",
       "      <td>2013-07-27 20:55:27</td>\n",
       "      <td>2013-08-10 21:22:42</td>\n",
       "      <td>14.018924</td>\n",
       "      <td>336.454167</td>\n",
       "      <td>20187.250000</td>\n",
       "      <td>1211235</td>\n",
       "    </tr>\n",
       "    <tr>\n",
       "      <th>6</th>\n",
       "      <td>1057</td>\n",
       "      <td>2013-06-16 09:14:41</td>\n",
       "      <td>2013-06-16 09:15:04</td>\n",
       "      <td>0.000266</td>\n",
       "      <td>0.006389</td>\n",
       "      <td>0.383333</td>\n",
       "      <td>23</td>\n",
       "    </tr>\n",
       "    <tr>\n",
       "      <th>7</th>\n",
       "      <td>1084</td>\n",
       "      <td>2013-06-19 20:14:04</td>\n",
       "      <td>2013-09-25 03:38:57</td>\n",
       "      <td>97.308947</td>\n",
       "      <td>2335.414722</td>\n",
       "      <td>140124.883333</td>\n",
       "      <td>8407493</td>\n",
       "    </tr>\n",
       "    <tr>\n",
       "      <th>8</th>\n",
       "      <td>1104</td>\n",
       "      <td>2013-06-20 15:48:15</td>\n",
       "      <td>2013-06-20 15:52:57</td>\n",
       "      <td>0.003264</td>\n",
       "      <td>0.078333</td>\n",
       "      <td>4.700000</td>\n",
       "      <td>282</td>\n",
       "    </tr>\n",
       "    <tr>\n",
       "      <th>9</th>\n",
       "      <td>1105</td>\n",
       "      <td>2013-06-20 15:59:08</td>\n",
       "      <td>2014-12-19 21:47:13</td>\n",
       "      <td>547.283391</td>\n",
       "      <td>13134.801389</td>\n",
       "      <td>788088.083333</td>\n",
       "      <td>47285285</td>\n",
       "    </tr>\n",
       "  </tbody>\n",
       "</table>\n",
       "</div>"
      ],
      "text/plain": [
       "   patient_id      min(start_time)      max(start_time)    diffDays  \\\n",
       "0        1018  2013-06-12 09:54:46  2013-06-12 09:54:58    0.000139   \n",
       "1        1019  2013-06-09 21:04:19  2013-06-30 15:49:58   20.781701   \n",
       "2        1028  2013-06-11 04:41:37  2013-07-23 04:59:25   42.012361   \n",
       "3        1029  2013-06-10 19:13:23  2013-11-25 15:23:24  167.881956   \n",
       "4        1046  2013-08-20 21:38:52  2013-08-21 22:48:34    1.048403   \n",
       "5        1056  2013-07-27 20:55:27  2013-08-10 21:22:42   14.018924   \n",
       "6        1057  2013-06-16 09:14:41  2013-06-16 09:15:04    0.000266   \n",
       "7        1084  2013-06-19 20:14:04  2013-09-25 03:38:57   97.308947   \n",
       "8        1104  2013-06-20 15:48:15  2013-06-20 15:52:57    0.003264   \n",
       "9        1105  2013-06-20 15:59:08  2014-12-19 21:47:13  547.283391   \n",
       "\n",
       "      diffHours        diffMin   diffSec  \n",
       "0      0.003333       0.200000        12  \n",
       "1    498.760833   29925.650000   1795539  \n",
       "2   1008.296667   60497.800000   3629868  \n",
       "3   4029.166944  241750.016667  14505001  \n",
       "4     25.161667    1509.700000     90582  \n",
       "5    336.454167   20187.250000   1211235  \n",
       "6      0.006389       0.383333        23  \n",
       "7   2335.414722  140124.883333   8407493  \n",
       "8      0.078333       4.700000       282  \n",
       "9  13134.801389  788088.083333  47285285  "
      ]
     },
     "execution_count": 49,
     "metadata": {},
     "output_type": "execute_result"
    }
   ],
   "source": [
    "timesall = pd.read_csv('/Users/katieporter/Dropbox/Insight/CT/ct_private/allfirst_last_timestamp.csv')\n",
    "timesall['diffDays'] = (timesall['max(start_time)'].apply(fns.maketime_sec)- timesall['min(start_time)'].apply(fns.maketime_sec))/86400\n",
    "timesall['diffHours'] = (timesall['max(start_time)'].apply(fns.maketime_sec)- timesall['min(start_time)'].apply(fns.maketime_sec))/3600\n",
    "timesall['diffMin'] = (timesall['max(start_time)'].apply(fns.maketime_sec)- timesall['min(start_time)'].apply(fns.maketime_sec))/60\n",
    "timesall['diffSec'] = timesall['max(start_time)'].apply(fns.maketime_sec)- timesall['min(start_time)'].apply(fns.maketime_sec)\n",
    "timesall[:10]"
   ]
  },
  {
   "cell_type": "code",
   "execution_count": 50,
   "metadata": {
    "collapsed": false
   },
   "outputs": [
    {
     "data": {
      "image/png": "[encoded data removed]",
      "text/plain": [
       "<matplotlib.figure.Figure at 0x114ffa940>"
      ]
     },
     "metadata": {},
     "output_type": "display_data"
    }
   ],
   "source": [
    "timesall.hist(column='diffDays', bins=100, figsize=(10,7));"
   ]
  },
  {
   "cell_type": "code",
   "execution_count": 51,
   "metadata": {
    "collapsed": true
   },
   "outputs": [],
   "source": [
    "firstweek = timesall[timesall['diffDays'] <= 7]\n",
    "firstmonth = timesall[timesall['diffDays'] <= 30]\n",
    "firstday = timesall[timesall['diffDays'] <= 1]"
   ]
  },
  {
   "cell_type": "code",
   "execution_count": 52,
   "metadata": {
    "collapsed": false
   },
   "outputs": [
    {
     "data": {
      "text/plain": [
       "array([[<matplotlib.axes._subplots.AxesSubplot object at 0x115000898>]], dtype=object)"
      ]
     },
     "execution_count": 52,
     "metadata": {},
     "output_type": "execute_result"
    },
    {
     "data": {
      "image/png": "[encoded data removed]",
      "text/plain": [
       "<matplotlib.figure.Figure at 0x10d292630>"
      ]
     },
     "metadata": {},
     "output_type": "display_data"
    }
   ],
   "source": [
    "firstday.hist(column='diffHours', bins=7, figsize=(10,7))"
   ]
  },
  {
   "cell_type": "code",
   "execution_count": 53,
   "metadata": {
    "collapsed": false
   },
   "outputs": [
    {
     "data": {
      "image/png": "[encoded data removed]",
      "text/plain": [
       "<matplotlib.figure.Figure at 0x115703eb8>"
      ]
     },
     "metadata": {},
     "output_type": "display_data"
    }
   ],
   "source": [
    "firstweek.hist(column='diffDays', bins=7, figsize=(10,7));\n",
    "ax = plt.xlabel(\"Number of Days Active\")\n",
    "plt.ylabel(\"Number of Patients\");\n",
    "plt.title(\"Patient Drop-off over 1 Week\")\n",
    "figDropoff = ax.get_figure()\n",
    "figDropoff.savefig('week_dropoff.png')"
   ]
  },
  {
   "cell_type": "markdown",
   "metadata": {},
   "source": [
    "#### for users who drop-off in the first day, get completed task ratio (completed / assigned) "
   ]
  },
  {
   "cell_type": "code",
   "execution_count": 9,
   "metadata": {
    "collapsed": false
   },
   "outputs": [
    {
     "data": {
      "text/plain": [
       "(5408,)"
      ]
     },
     "execution_count": 9,
     "metadata": {},
     "output_type": "execute_result"
    }
   ],
   "source": [
    "# patient_nums_1day = np.array(firstday['patient_id'])\n",
    "# patient_nums_1day.shape"
   ]
  },
  {
   "cell_type": "code",
   "execution_count": 10,
   "metadata": {
    "collapsed": false
   },
   "outputs": [],
   "source": [
    "# intialize empty dataframe \n",
    "# single_day_last5 = pd.DataFrame(columns=['patient_id', 'avg_duration', 'avg_accuracy', 'avg_latency', 'avg_ratio_completed'])"
   ]
  },
  {
   "cell_type": "code",
   "execution_count": 23,
   "metadata": {
    "collapsed": false
   },
   "outputs": [],
   "source": [
    "# for each patient who used the app for 1 day only, extract information about the last 5 sessions they completed.\n",
    "# for i in patient_nums_1day[4941:]:\n",
    "# for i in patient_nums_1day:\n",
    "#     df = sql_queries.last_5_sessions(cur,i)\n",
    "#     avg_duration = df['duration'].mean()\n",
    "#     avg_accuracy = df['accuracy'].mean()\n",
    "#     avg_latency = df['latency'].mean()\n",
    "#     avg_ratio = df['completed_ratio'].mean()\n",
    "#     onedf = pd.DataFrame([[i,avg_duration,avg_accuracy,avg_latency,avg_ratio]],\n",
    "#                          columns=['patient_id', 'avg_duration', 'avg_accuracy', 'avg_latency', 'avg_ratio_completed'])\n",
    "#     single_day_last5 = single_day_last5.append(onedf, ignore_index=True)\n",
    "    "
   ]
  },
  {
   "cell_type": "code",
   "execution_count": 24,
   "metadata": {
    "collapsed": false
   },
   "outputs": [
    {
     "data": {
      "text/plain": [
       "(5408, 5)"
      ]
     },
     "execution_count": 24,
     "metadata": {},
     "output_type": "execute_result"
    }
   ],
   "source": [
    "# single_day_last5.shape"
   ]
  },
  {
   "cell_type": "code",
   "execution_count": 11,
   "metadata": {
    "collapsed": true
   },
   "outputs": [],
   "source": [
    "all_last5 = pd.DataFrame(columns=['patient_id', 'avg_duration', 'avg_accuracy', 'avg_latency', 'avg_ratio_completed'])"
   ]
  },
  {
   "cell_type": "code",
   "execution_count": 40,
   "metadata": {
    "collapsed": false
   },
   "outputs": [],
   "source": [
    "# alltargets = np.array(patient_list['patient_id'])\n",
    "# all_last5 = pd.DataFrame(columns=['patient_id', 'avg_duration', 'avg_accuracy', 'avg_latency', 'avg_ratio_completed'])\n",
    "for i in alltargets[10839:]:\n",
    "    df = sql_queries.last_5_sessions(cur,i)\n",
    "    avg_duration = df['duration'].mean()\n",
    "    avg_accuracy = df['accuracy'].mean()\n",
    "    avg_latency = df['latency'].mean()\n",
    "    avg_ratio = df['completed_ratio'].mean()\n",
    "    onedf = pd.DataFrame([[i,avg_duration,avg_accuracy,avg_latency,avg_ratio]],\n",
    "                         columns=['patient_id', 'avg_duration', 'avg_accuracy', 'avg_latency', 'avg_ratio_completed'])\n",
    "    all_last5 = all_last5.append(onedf, ignore_index=True)\n",
    "all_last5.to_csv('/Users/katieporter/Dropbox/Insight/CT/ct_private/all_last5.csv')\n",
    "# allpatients_last5 = get_last5(alltargets)"
   ]
  },
  {
   "cell_type": "code",
   "execution_count": 41,
   "metadata": {
    "collapsed": false
   },
   "outputs": [
    {
     "name": "stdout",
     "output_type": "stream",
     "text": [
      "(11151, 5)\n"
     ]
    }
   ],
   "source": [
    "print(all_last5.shape)\n",
    "# all_last5.to_csv('/Users/katieporter/Dropbox/Insight/CT/ct_private/incomplete_10839_last5.csv')\n",
    "# all_last5[7108:7109]"
   ]
  },
  {
   "cell_type": "code",
   "execution_count": 109,
   "metadata": {
    "collapsed": false
   },
   "outputs": [
    {
     "name": "stdout",
     "output_type": "stream",
     "text": [
      "0.9875\n"
     ]
    },
    {
     "data": {
      "text/plain": [
       "0.9875"
      ]
     },
     "execution_count": 109,
     "metadata": {},
     "output_type": "execute_result"
    }
   ],
   "source": [
    "accc = []\n",
    "for i in df['accuracy']:\n",
    "    if i != None:\n",
    "        accc.append(i)\n",
    "        print(i)\n",
    "float(np.array(accc))\n",
    "# np.array(accc)"
   ]
  },
  {
   "cell_type": "code",
   "execution_count": 93,
   "metadata": {
    "collapsed": false
   },
   "outputs": [
    {
     "name": "stdout",
     "output_type": "stream",
     "text": [
      "0    0.9875\n",
      "1      None\n",
      "2      None\n",
      "3      None\n",
      "4      None\n",
      "Name: accuracy, dtype: object\n"
     ]
    },
    {
     "ename": "TypeError",
     "evalue": "bad operand type for unary ~: 'decimal.Decimal'",
     "output_type": "error",
     "traceback": [
      "\u001b[0;31m---------------------------------------------------------------------------\u001b[0m",
      "\u001b[0;31mTypeError\u001b[0m                                 Traceback (most recent call last)",
      "\u001b[0;32m<ipython-input-93-a4efba4296cc>\u001b[0m in \u001b[0;36m<module>\u001b[0;34m()\u001b[0m\n\u001b[1;32m     10\u001b[0m     \u001b[0mfirst_accuracy\u001b[0m \u001b[0;34m=\u001b[0m \u001b[0mdf\u001b[0m\u001b[0;34m[\u001b[0m\u001b[0;34m'accuracy'\u001b[0m\u001b[0;34m]\u001b[0m\u001b[0;34m[\u001b[0m\u001b[0;36m0\u001b[0m\u001b[0;34m]\u001b[0m\u001b[0;34m\u001b[0m\u001b[0m\n\u001b[1;32m     11\u001b[0m     \u001b[0mprint\u001b[0m\u001b[0;34m(\u001b[0m\u001b[0mdf\u001b[0m\u001b[0;34m[\u001b[0m\u001b[0;34m'accuracy'\u001b[0m\u001b[0;34m]\u001b[0m\u001b[0;34m)\u001b[0m\u001b[0;34m\u001b[0m\u001b[0m\n\u001b[0;32m---> 12\u001b[0;31m     \u001b[0macc_np\u001b[0m \u001b[0;34m=\u001b[0m \u001b[0mnp\u001b[0m\u001b[0;34m.\u001b[0m\u001b[0marray\u001b[0m\u001b[0;34m(\u001b[0m\u001b[0mdf\u001b[0m\u001b[0;34m[\u001b[0m\u001b[0;34m'accuracy'\u001b[0m\u001b[0;34m]\u001b[0m\u001b[0;34m[\u001b[0m\u001b[0;34m~\u001b[0m\u001b[0mdf\u001b[0m\u001b[0;34m[\u001b[0m\u001b[0;34m'accuracy'\u001b[0m\u001b[0;34m]\u001b[0m\u001b[0;34m==\u001b[0m\u001b[0;32mNone\u001b[0m\u001b[0;34m]\u001b[0m\u001b[0;34m)\u001b[0m\u001b[0;34m\u001b[0m\u001b[0m\n\u001b[0m\u001b[1;32m     13\u001b[0m     \u001b[0mprint\u001b[0m\u001b[0;34m(\u001b[0m\u001b[0macc_np\u001b[0m\u001b[0;34m)\u001b[0m\u001b[0;34m\u001b[0m\u001b[0m\n\u001b[1;32m     14\u001b[0m     \u001b[0my\u001b[0m \u001b[0;34m=\u001b[0m \u001b[0mnp\u001b[0m\u001b[0;34m.\u001b[0m\u001b[0marange\u001b[0m\u001b[0;34m(\u001b[0m\u001b[0mlen\u001b[0m\u001b[0;34m(\u001b[0m\u001b[0macc_np\u001b[0m\u001b[0;34m[\u001b[0m\u001b[0;34m~\u001b[0m\u001b[0mnp\u001b[0m\u001b[0;34m.\u001b[0m\u001b[0misnan\u001b[0m\u001b[0;34m(\u001b[0m\u001b[0macc_np\u001b[0m\u001b[0;34m)\u001b[0m\u001b[0;34m]\u001b[0m\u001b[0;34m)\u001b[0m\u001b[0;34m)\u001b[0m\u001b[0;34m\u001b[0m\u001b[0m\n",
      "\u001b[0;32m//anaconda/lib/python3.5/site-packages/pandas/core/generic.py\u001b[0m in \u001b[0;36m__invert__\u001b[0;34m(self)\u001b[0m\n\u001b[1;32m    654\u001b[0m     \u001b[0;32mdef\u001b[0m \u001b[0m__invert__\u001b[0m\u001b[0;34m(\u001b[0m\u001b[0mself\u001b[0m\u001b[0;34m)\u001b[0m\u001b[0;34m:\u001b[0m\u001b[0;34m\u001b[0m\u001b[0m\n\u001b[1;32m    655\u001b[0m         \u001b[0;32mtry\u001b[0m\u001b[0;34m:\u001b[0m\u001b[0;34m\u001b[0m\u001b[0m\n\u001b[0;32m--> 656\u001b[0;31m             \u001b[0marr\u001b[0m \u001b[0;34m=\u001b[0m \u001b[0moperator\u001b[0m\u001b[0;34m.\u001b[0m\u001b[0minv\u001b[0m\u001b[0;34m(\u001b[0m\u001b[0m_values_from_object\u001b[0m\u001b[0;34m(\u001b[0m\u001b[0mself\u001b[0m\u001b[0;34m)\u001b[0m\u001b[0;34m)\u001b[0m\u001b[0;34m\u001b[0m\u001b[0m\n\u001b[0m\u001b[1;32m    657\u001b[0m             \u001b[0;32mreturn\u001b[0m \u001b[0mself\u001b[0m\u001b[0;34m.\u001b[0m\u001b[0m__array_wrap__\u001b[0m\u001b[0;34m(\u001b[0m\u001b[0marr\u001b[0m\u001b[0;34m)\u001b[0m\u001b[0;34m\u001b[0m\u001b[0m\n\u001b[1;32m    658\u001b[0m         \u001b[0;32mexcept\u001b[0m\u001b[0;34m:\u001b[0m\u001b[0;34m\u001b[0m\u001b[0m\n",
      "\u001b[0;31mTypeError\u001b[0m: bad operand type for unary ~: 'decimal.Decimal'"
     ]
    }
   ],
   "source": [
    "# alltargets = np.array(patient_list['patient_id'])\n",
    "from scipy.stats import linregress\n",
    "all_first5 = pd.DataFrame(columns=['patient_id', 'avg_duration', 'avg_accuracy', 'avg_latency', 'avg_ratio_completed'])\n",
    "for i in alltargets[:10]:\n",
    "    df = sql_queries.first_5_sessions(cur,i)\n",
    "    avg_duration = df['duration'].mean()\n",
    "    avg_accuracy = df['accuracy'].mean()\n",
    "    avg_latency = df['latency'].mean()\n",
    "    avg_ratio = df['completed_ratio'].mean()\n",
    "    first_accuracy = df['accuracy'][0]\n",
    "#     print(df['accuracy'])\n",
    "    accc = []\n",
    "    for i in df['accuracy']:\n",
    "        if i != None:\n",
    "            accc.append(i)\n",
    "    acc_np = float(np.array(accc)\n",
    "#     print(acc_np)\n",
    "    y = np.arange(len(acc_np[~np.isnan(acc_np)]))\n",
    "    x = acc_np[~np.isnan(acc_np)]\n",
    "    slope, intercept, r_value, p_value, std_err = linregress(x,y)\n",
    "    df_out = pd.DataFrame([[i, avg_duration, avg_accuracy, avg_latency, avg_ratio, first_accuracy, slope]],\n",
    "                         columns=['patient_id', 'avg_duration', 'avg_accuracy', 'avg_latency', \n",
    "                                  'avg_ratio_completed', 'first_acc','acc_slope'])\n",
    "    all_first5 = all_first5.append(df_out, ignore_index=True)\n",
    "all_first5.to_csv('/Users/katieporter/Dropbox/Insight/CT/ct_private/all_first5.csv')"
   ]
  },
  {
   "cell_type": "code",
   "execution_count": 87,
   "metadata": {
    "collapsed": false
   },
   "outputs": [
    {
     "name": "stdout",
     "output_type": "stream",
     "text": [
      "[0 1] [ 1.   0.5]\n",
      "slope LinregressResult(slope=-2.0, intercept=2.0, rvalue=-1.0, pvalue=nan, stderr=nan)\n"
     ]
    }
   ],
   "source": [
    "kat = [float('nan'), float('nan'), float('nan'), float('nan')]\n",
    "kdf = pd.DataFrame({'test': kat})\n",
    "kdfnp = np.array(kdf['test'])\n",
    "kdfnp[1] = 1\n",
    "kdfnp[2] = .5\n",
    "np.nanmean(kdfnp)\n",
    "kdf['test'][1] = 1\n",
    "y = np.arange(len(kdfnp[~np.isnan(kdfnp)]))\n",
    "x = kdfnp[~np.isnan(kdfnp)]\n",
    "print(y, x)\n",
    "slope, intercept, r_value, p_value, std_err = linregress(x,y)\n",
    "slope\n",
    "slope = linregress(x,y)\n",
    "print('slope', slope)"
   ]
  },
  {
   "cell_type": "code",
   "execution_count": 27,
   "metadata": {
    "collapsed": false
   },
   "outputs": [],
   "source": [
    "# save to csv b/c extracting info from SQL takes a while \n",
    "# single_day_last5.to_csv('/Users/katieporter/Dropbox/Insight/CT/ct_private/single_day_last5.csv')"
   ]
  },
  {
   "cell_type": "code",
   "execution_count": 77,
   "metadata": {
    "collapsed": false
   },
   "outputs": [
    {
     "data": {
      "text/plain": [
       "array([0, 1, 2, 3, 4, 5, 6, 7, 8, 9])"
      ]
     },
     "execution_count": 77,
     "metadata": {},
     "output_type": "execute_result"
    }
   ],
   "source": [
    "np.arange(10)"
   ]
  },
  {
   "cell_type": "code",
   "execution_count": 28,
   "metadata": {
    "collapsed": false
   },
   "outputs": [
    {
     "data": {
      "image/png": "[encoded data removed]",
      "text/plain": [
       "<matplotlib.figure.Figure at 0x1160c3518>"
      ]
     },
     "metadata": {},
     "output_type": "display_data"
    }
   ],
   "source": [
    "# plot tasks completed for single-day users\n",
    "single_day_last5.hist(column='avg_ratio_completed');\n",
    "ax = plt.xlabel(\"Ratio Tasks Completed (Finished/Total)\")\n",
    "plt.ylabel(\"Number of Patients\");\n",
    "plt.title(\"Tasks Completed: 1 Day Users\")\n",
    "figDropoff = ax.get_figure()\n",
    "figDropoff.savefig('taskscompleted_1dayusers.png')"
   ]
  },
  {
   "cell_type": "markdown",
   "metadata": {
    "collapsed": false
   },
   "source": [
    "Group users as active / inactive based on last timestamp"
   ]
  },
  {
   "cell_type": "code",
   "execution_count": null,
   "metadata": {
    "collapsed": false
   },
   "outputs": [],
   "source": []
  },
  {
   "cell_type": "code",
   "execution_count": 54,
   "metadata": {
    "collapsed": false
   },
   "outputs": [],
   "source": [
    "timesall['daysSinceActive']=(fns.maketime_sec(timesall['max(start_time)'].max())-timesall['max(start_time)'].apply(fns.maketime_sec))/86400"
   ]
  },
  {
   "cell_type": "code",
   "execution_count": 55,
   "metadata": {
    "collapsed": false
   },
   "outputs": [],
   "source": [
    "timesall['isActive_3wks'] = timesall['daysSinceActive'].apply(fns.isactive)\n",
    "# timesall[11100:]"
   ]
  },
  {
   "cell_type": "code",
   "execution_count": 73,
   "metadata": {
    "collapsed": false
   },
   "outputs": [
    {
     "data": {
      "text/html": [
       "<div>\n",
       "<table border=\"1\" class=\"dataframe\">\n",
       "  <thead>\n",
       "    <tr style=\"text-align: right;\">\n",
       "      <th></th>\n",
       "      <th>patient_id</th>\n",
       "      <th>min(start_time)</th>\n",
       "      <th>max(start_time)</th>\n",
       "      <th>diffDays</th>\n",
       "      <th>diffHours</th>\n",
       "      <th>diffMin</th>\n",
       "      <th>diffSec</th>\n",
       "      <th>daysSinceActive</th>\n",
       "    </tr>\n",
       "    <tr>\n",
       "      <th>isActive_3wks</th>\n",
       "      <th></th>\n",
       "      <th></th>\n",
       "      <th></th>\n",
       "      <th></th>\n",
       "      <th></th>\n",
       "      <th></th>\n",
       "      <th></th>\n",
       "      <th></th>\n",
       "    </tr>\n",
       "  </thead>\n",
       "  <tbody>\n",
       "    <tr>\n",
       "      <th>0</th>\n",
       "      <td>10350</td>\n",
       "      <td>10350</td>\n",
       "      <td>10350</td>\n",
       "      <td>10350</td>\n",
       "      <td>10350</td>\n",
       "      <td>10350</td>\n",
       "      <td>10350</td>\n",
       "      <td>10350</td>\n",
       "    </tr>\n",
       "    <tr>\n",
       "      <th>1</th>\n",
       "      <td>801</td>\n",
       "      <td>801</td>\n",
       "      <td>801</td>\n",
       "      <td>801</td>\n",
       "      <td>801</td>\n",
       "      <td>801</td>\n",
       "      <td>801</td>\n",
       "      <td>801</td>\n",
       "    </tr>\n",
       "  </tbody>\n",
       "</table>\n",
       "</div>"
      ],
      "text/plain": [
       "               patient_id  min(start_time)  max(start_time)  diffDays  \\\n",
       "isActive_3wks                                                           \n",
       "0                   10350            10350            10350     10350   \n",
       "1                     801              801              801       801   \n",
       "\n",
       "               diffHours  diffMin  diffSec  daysSinceActive  \n",
       "isActive_3wks                                                \n",
       "0                  10350    10350    10350            10350  \n",
       "1                    801      801      801              801  "
      ]
     },
     "execution_count": 73,
     "metadata": {},
     "output_type": "execute_result"
    }
   ],
   "source": [
    "timesall.groupby('isActive_3wks').count()"
   ]
  },
  {
   "cell_type": "code",
   "execution_count": 74,
   "metadata": {
    "collapsed": false
   },
   "outputs": [],
   "source": [
    "timesall.to_csv('/Users/katieporter/Dropbox/Insight/CT/ct_private/all_time_active.csv')"
   ]
  },
  {
   "cell_type": "code",
   "execution_count": null,
   "metadata": {
    "collapsed": true
   },
   "outputs": [],
   "source": [
    "# done with cursor\n",
    "cur.close()             \n",
    "\n",
    "# done with database\n",
    "cnx.close()"
   ]
  },
  {
   "cell_type": "code",
   "execution_count": null,
   "metadata": {
    "collapsed": true
   },
   "outputs": [],
   "source": [
    "# def scheduled_patients(cur):\n",
    "#     rstore = []\n",
    "#     patient_num = [1039, 1254]\n",
    "#     for i in patient_num:\n",
    "#         cur.execute((\"SELECT max(timestamp) FROM constant_therapy.responses where patient_id =({patient_num})\").format(patient_num=i))\n",
    "#         sleep(.5)\n",
    "#         result = cur.fetchall()\n",
    "#         r = [i[0] for i in result]\n",
    "#         rstore = rstore + r\n",
    "#         return rstore\n",
    "# blah = scheduled_patients(cur)\n",
    "\n",
    "\n",
    "\n",
    "\n",
    "# fig = plt.figure(figsize=(15, 15)) \n",
    "# bothData = pd.DataFrame({'Active' : activePatientRT, \n",
    "#                         'Inactive' : inactivePatientRT})\n",
    "# plotL = bothData.plot(title=\"latency\", )\n",
    "# figL = plotL.get_figure()\n",
    "# figL.savefig('latency2users.png')"
   ]
  }
 ],
 "metadata": {
  "kernelspec": {
   "display_name": "Python 3",
   "language": "python",
   "name": "python3"
  },
  "language_info": {
   "codemirror_mode": {
    "name": "ipython",
    "version": 3
   },
   "file_extension": ".py",
   "mimetype": "text/x-python",
   "name": "python",
   "nbconvert_exporter": "python",
   "pygments_lexer": "ipython3",
   "version": "3.5.1"
  }
 },
 "nbformat": 4,
 "nbformat_minor": 0
}
